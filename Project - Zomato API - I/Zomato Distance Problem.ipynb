{
 "cells": [
  {
   "cell_type": "code",
   "execution_count": null,
   "metadata": {},
   "outputs": [],
   "source": [
    "# key : 273cafab78fd2157520f834cce7099f5"
   ]
  },
  {
   "cell_type": "code",
   "execution_count": 2,
   "metadata": {},
   "outputs": [],
   "source": [
    "import requests"
   ]
  },
  {
   "cell_type": "code",
   "execution_count": null,
   "metadata": {},
   "outputs": [],
   "source": [
    "# 28.6977° N, 77.1406° E"
   ]
  },
  {
   "cell_type": "markdown",
   "metadata": {},
   "source": [
    "# Zomato distance 3.1"
   ]
  },
  {
   "cell_type": "code",
   "execution_count": 3,
   "metadata": {},
   "outputs": [
    {
     "name": "stdout",
     "output_type": "stream",
     "text": [
      "193\n"
     ]
    }
   ],
   "source": [
    "response = requests.get('https://developers.zomato.com/api/v2.1/cuisines',\n",
    "                        headers = {'user-key':'fe2800d53acb7eea4371a2f92dad232b'},\n",
    "                       params={\"city_id\":\"1\"})\n",
    "py_data = response.json()\n",
    "for i in py_data[\"cuisines\"]:\n",
    "    if i[\"cuisine\"][\"cuisine_name\"]==\"BBQ\":\n",
    "        print(i[\"cuisine\"][\"cuisine_id\"])"
   ]
  },
  {
   "cell_type": "markdown",
   "metadata": {},
   "source": [
    "# Zomato distance 3.2"
   ]
  },
  {
   "cell_type": "code",
   "execution_count": null,
   "metadata": {},
   "outputs": [],
   "source": [
    "#restaurant name, user rating, restaurant id and locality\n"
   ]
  },
  {
   "cell_type": "code",
   "execution_count": 3,
   "metadata": {},
   "outputs": [
    {
     "name": "stdout",
     "output_type": "stream",
     "text": [
      "Themis Barbecue House 4.3 18204820 Netaji Subhash Place\n",
      "Barbeque Nation 4.6 9561 Netaji Subhash Place\n",
      "Amazings Kitchen 0 19370424 Prashant Vihar\n",
      "Moet's Barbeque 0 19238917 Alipur\n",
      "UBQ by Barbeque Nation 3.1 18889760 Rohini\n",
      "Kays Bar-Be-Que 3.9 3079 Ashok Vihar Phase 1\n",
      "Chicken Adda 0 19179179 Rohini\n",
      "7teen BBQ Bistro Bnq 3.9 18595610 Moti Nagar\n",
      "Pishori Chicken 0 19061375 Kirti Nagar\n",
      "Hunger On Wheels 0 19054336 Vijay Nagar\n"
     ]
    }
   ],
   "source": [
    "response = requests.get('https://developers.zomato.com/api/v2.1/search',\n",
    "                        headers = {'user-key':'###################################'},\n",
    "                       params={\"lat\":28.6977,\n",
    "                               \"lon\":77.1406, \n",
    "                               \"count\":10,\n",
    "                               \"cuisines\":\"193\",\n",
    "                               \"sort\":\"real_distance\",\n",
    "                               \"order\":\"desc\"}\n",
    "                       ) \n",
    "py_data = response.json()\n",
    "for i in py_data[\"restaurants\"]:\n",
    "    print(i[\"restaurant\"][\"name\"],i[\"restaurant\"][\"user_rating\"][\"aggregate_rating\"],\n",
    "          i[\"restaurant\"][\"id\"],i[\"restaurant\"][\"location\"][\"locality\"])\n",
    "\n"
   ]
  },
  {
   "cell_type": "markdown",
   "metadata": {},
   "source": [
    "# Zomato distance 3.3"
   ]
  },
  {
   "cell_type": "code",
   "execution_count": 23,
   "metadata": {},
   "outputs": [
    {
     "name": "stdout",
     "output_type": "stream",
     "text": [
      "Medhavi 5 Enjoyed a wide range of dishes at this buffet outlet with aesthetic interiors and designer exteriors. Scrumptious barbeque starters with grilled chicken,fish tikka in skewers on the table. Sipped on a variety of mocktails plus the singer was there to entertain throughout our time there. The main course dishes were made very well with excellent sea food, dum biryani , paneer dishes, types of breads and exquisite desserts to choose from namely white chocolate brownie , pineapple pastries , truffle cake and cut fruits. Would definitely recommend to one and all.\n",
      "Piyush Matreja 5 Live singing, spectacular ambience and every one enjoying to the grilled kebabs on their table, that's Themis barbeque all about. Based on the concept of buffet where you start with snacks on the table with cool mocktails. I tried the lemon ice tea and charred prawns tikka as well as chicken malai tikka ,their non veg starters were great. Main course I had mutton rogan josh with lachha parantha and enjoyed a few of my favourite desserts namely strawberry tarts and a chocolate truffle cake with cherries. I must say that was a good lunch I relished after long.\n",
      "Kimaya Divya 5 A place offering a buffet concept in the northern part of Delhi, with live music , a dj set up, comfortable seating. They have a set up of a grill hot plate with food grilled on skewers. We opted for non veg set up and ate prawns , chicken malai tikka , tandoori chicken in the hot portion, while chilly fish ,pizzas and mutton seekh kebab were served separately. The main course had lots of variety with dal Makhani, paneer kadhai , mix vegetable, chicken pilaf ,mutton rogan josh. The restaurant did their level best and made our time a memorable one.\n",
      "Shivani 🐼 5 Themis barbque has really upscaled the barbque experience. Live Music 🎸 Live Grill 🔥 Great food 🦐 Good Service 🕴️ On every point it is 10/10.... 😀 You should really give a try to themis.\n",
      "Rachit Jaiswal 5 It was great to be at themis barbeque. Very reasonable amount and have ample of varieties in non veg. I liked their starters, especially chilli chicken and fish. Main course was good as well and desserts were the best part. All of them were delightful, rich in taste\n"
     ]
    }
   ],
   "source": [
    "response = requests.get('https://developers.zomato.com/api/v2.1/reviews',\n",
    "                        headers = {'user-key':'fe2800d53acb7eea4371a2f92dad232b'},\n",
    "                       params={\"res_id\":\"18204820\", \"count\":5}\n",
    "                       )\n",
    "py_data = response.json()\n",
    "for i in py_data[\"user_reviews\"]:\n",
    "    print(i[\"review\"][\"user\"][\"name\"], i[\"review\"][\"rating\"], i[\"review\"][\"review_text\"])"
   ]
  },
  {
   "cell_type": "markdown",
   "metadata": {},
   "source": [
    "# Zomato distance 3.4"
   ]
  },
  {
   "cell_type": "code",
   "execution_count": 24,
   "metadata": {},
   "outputs": [
    {
     "name": "stdout",
     "output_type": "stream",
     "text": [
      "Indian Accent 4.9 2004 The Lodhi, Lodhi Road\n",
      "Dana Choga 4.9 549 Sector 14\n",
      "Son Of A Bun 4.9 19300210 Golf Course Road\n",
      "The Tandoori Tales 4.9 19231934 Sector 45\n",
      "AK's Kitchen 4.9 18510193 Global Foyer Mall, Golf Course Road\n",
      "Hauz Khas Social 4.8 308322 Hauz Khas Village\n",
      "Ah So Yum 4.8 18945610 Golf Course Road\n",
      "Rollfie 4.8 19198534 DLF Phase 3\n",
      "HOP House Of Proteins 4.8 18968085 Malviya Nagar\n",
      "Chili's Grill & Bar 4.8 18607069 Pacific Mall, Tagore Garden\n"
     ]
    }
   ],
   "source": [
    "response = requests.get('https://developers.zomato.com/api/v2.1/search',\n",
    "                        headers = {'user-key':'fe2800d53acb7eea4371a2f92dad232b'},\n",
    "                       params={\"lat\":28.6977,\n",
    "                               \"lon\":77.1406, \n",
    "                               \"count\":10,\n",
    "                               \"radius\":4000,\n",
    "                               \"sort\":\"rating\",\n",
    "                               \"order\":\"desc\"}\n",
    "                       ) \n",
    "py_data = response.json()\n",
    "for i in py_data[\"restaurants\"]:\n",
    "    print(i[\"restaurant\"][\"name\"],i[\"restaurant\"][\"user_rating\"][\"aggregate_rating\"],i[\"restaurant\"][\"id\"],i[\"restaurant\"][\"location\"][\"locality\"])\n",
    "\n"
   ]
  }
 ],
 "metadata": {
  "kernelspec": {
   "display_name": "Python 3",
   "language": "python",
   "name": "python3"
  },
  "language_info": {
   "codemirror_mode": {
    "name": "ipython",
    "version": 3
   },
   "file_extension": ".py",
   "mimetype": "text/x-python",
   "name": "python",
   "nbconvert_exporter": "python",
   "pygments_lexer": "ipython3",
   "version": "3.7.3"
  }
 },
 "nbformat": 4,
 "nbformat_minor": 2
}
