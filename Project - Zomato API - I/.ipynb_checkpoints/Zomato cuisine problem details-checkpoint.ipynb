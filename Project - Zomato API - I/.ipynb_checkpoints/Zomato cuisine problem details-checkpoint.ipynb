{
 "cells": [
  {
   "cell_type": "code",
   "execution_count": null,
   "metadata": {},
   "outputs": [],
   "source": [
    "# key : ##################################"
   ]
  },
  {
   "cell_type": "code",
   "execution_count": 1,
   "metadata": {},
   "outputs": [],
   "source": [
    "import requests"
   ]
  },
  {
   "cell_type": "markdown",
   "metadata": {},
   "source": [
    "# Zomato Cuisine 1.1"
   ]
  },
  {
   "cell_type": "code",
   "execution_count": 9,
   "metadata": {},
   "outputs": [
    {
     "name": "stdout",
     "output_type": "stream",
     "text": [
      "73\n"
     ]
    }
   ],
   "source": [
    "response = requests.get('https://developers.zomato.com/api/v2.1/cuisines',\n",
    "                        headers = {'user-key':'##################################'},\n",
    "                       params={\"city_id\":\"1\"})\n",
    "py_data = response.json()\n",
    "for i in py_data[\"cuisines\"]:\n",
    "    if i[\"cuisine\"][\"cuisine_name\"]==\"Mexican\":\n",
    "        print(i[\"cuisine\"][\"cuisine_id\"])"
   ]
  },
  {
   "cell_type": "markdown",
   "metadata": {},
   "source": [
    "# Zomato Cuisine 1.3"
   ]
  },
  {
   "cell_type": "code",
   "execution_count": 15,
   "metadata": {},
   "outputs": [
    {
     "name": "stdout",
     "output_type": "stream",
     "text": [
      "subzone 104\n"
     ]
    }
   ],
   "source": [
    "response = requests.get('https://developers.zomato.com/api/v2.1/locations',\n",
    "                        headers = {'user-key':'##################################'},\n",
    "                       params={\"query\":\"Connaught Place\"})\n",
    "py_data = response.json()\n",
    "print(py_data[\"location_suggestions\"][0][\"entity_type\"],py_data[\"location_suggestions\"][0][\"entity_id\"])"
   ]
  },
  {
   "cell_type": "markdown",
   "metadata": {},
   "source": [
    "# Zomato Cuisine 1.4"
   ]
  },
  {
   "cell_type": "code",
   "execution_count": 25,
   "metadata": {},
   "outputs": [
    {
     "name": "stdout",
     "output_type": "stream",
     "text": [
      "Odeon Social 4.7 18246991\n",
      "38 Barracks 4.7 18241537\n",
      "Connaught Clubhouse 4.6 19295106\n",
      "Detroit 4.5 18625812\n",
      "Ministry Of Beer 4.5 18418277\n",
      "Chili's Grill & Bar 4.5 18537536\n",
      "Farzi Cafe 4.3 18233593\n",
      "Xero Degrees 4.3 18729557\n",
      "Lord Of The Drinks 4.3 312603\n",
      "The Junkyard Cafe 4.3 313256\n"
     ]
    }
   ],
   "source": [
    "response = requests.get('https://developers.zomato.com/api/v2.1/search',\n",
    "                        headers = {'user-key':'##################################'},\n",
    "                       params={\"entity_id\":\"104\",\n",
    "                               \"entity_type\":\"subzone\", \n",
    "                               \"count\":10,\n",
    "                               \"cuisines\":\"73\",\n",
    "                               \"sort\":\"rating\",\n",
    "                               \"order\":\"desc\"}\n",
    "                       ) \n",
    "py_data = response.json()\n",
    "for i in py_data[\"restaurants\"]:\n",
    "    print(i[\"restaurant\"][\"name\"],i[\"restaurant\"][\"user_rating\"][\"aggregate_rating\"],i[\"restaurant\"][\"id\"])\n"
   ]
  },
  {
   "cell_type": "markdown",
   "metadata": {},
   "source": [
    "# Zomato Cuisine 1.5"
   ]
  },
  {
   "cell_type": "code",
   "execution_count": 28,
   "metadata": {},
   "outputs": [
    {
     "name": "stdout",
     "output_type": "stream",
     "text": [
      "6\n"
     ]
    }
   ],
   "source": [
    "response = requests.get('https://developers.zomato.com/api/v2.1/categories',\n",
    "                        headers = {'user-key':'##################################'},\n",
    "                       )\n",
    "py_data = response.json()\n",
    "for i in py_data[\"categories\"]:\n",
    "    if i[\"categories\"][\"name\"]==\"Cafes\":\n",
    "        print(i[\"categories\"][\"id\"])"
   ]
  },
  {
   "cell_type": "markdown",
   "metadata": {},
   "source": [
    "# Zomato Cuisine 1.6\n"
   ]
  },
  {
   "cell_type": "code",
   "execution_count": 34,
   "metadata": {},
   "outputs": [
    {
     "name": "stdout",
     "output_type": "stream",
     "text": [
      "Xero Degrees 4.3 18729557\n",
      "The Art House Bar n Cafe 4.2 18863766\n",
      "Chaayos - Meri Wali Chai 4.1 18237315\n",
      "Cafe Delhi Heights 4.0 18579363\n",
      "Cafe Coffee Day - The Square 3.8 303034\n"
     ]
    }
   ],
   "source": [
    "response = requests.get('https://developers.zomato.com/api/v2.1/search',\n",
    "                        headers = {'user-key':'##################################'},\n",
    "                       params={\"entity_id\":\"104\",\n",
    "                               \"entity_type\":\"subzone\", \n",
    "                               \"count\":5,\n",
    "                               \"category\":\"6\",\n",
    "                               \"cuisines\":\"73\",\n",
    "                               \"sort\":\"rating\",\n",
    "                               \"order\":\"desc\"}\n",
    "                       ) \n",
    "py_data = response.json()\n",
    "for i in py_data[\"restaurants\"]:\n",
    "    print(i[\"restaurant\"][\"name\"],i[\"restaurant\"][\"user_rating\"][\"aggregate_rating\"],i[\"restaurant\"][\"id\"])\n"
   ]
  },
  {
   "cell_type": "markdown",
   "metadata": {},
   "source": [
    "# Zomato Cuisine 1.7 "
   ]
  },
  {
   "cell_type": "code",
   "execution_count": 51,
   "metadata": {},
   "outputs": [
    {
     "name": "stdout",
     "output_type": "stream",
     "text": [
      "Ananya Srivastava 5 Xero Degrees! Everyone loves it. The pasta and fries are to die for.  Particularly Cheesy peri peri fries and white sauce pasta.\n",
      "Tarun Vann 5 Wanted to go to this place for a long time, and tbh this place is definitely worth the hype, Such a cool concept of getting fries in the jar. It is a cozy small place with awesome food. Will visit again for sure.\n",
      "Apoorv AV 4 Very nice place. Ambiance is unique and comfortable. Staff is friendly and service is on time. Had quite a few types of fries and sliders. Pizza was okay. Refresher was too good.\n",
      "Ritika Guher 4 One of my favourite cafe in cannaught place, they serve amazing food at reasonable price. I just love their food presentations. My all time favourite is peri peri cheesy fries and pizza fries. In shakes i highly recommend their red velvet shake. I recommend all in coolers except spicy xero degrees.  Service: 5/5\n",
      "Harshita Khosla 3 \n"
     ]
    }
   ],
   "source": [
    "response = requests.get('https://developers.zomato.com/api/v2.1/reviews',\n",
    "                        headers = {'user-key':'##################################'},\n",
    "                       params={\"res_id\":\"18729557\", \"count\":5}\n",
    "                       )\n",
    "py_data = response.json()\n",
    "for i in py_data[\"user_reviews\"]:\n",
    "    print(i[\"review\"][\"user\"][\"name\"], i[\"review\"][\"rating\"], i[\"review\"][\"review_text\"])\n"
   ]
  },
  {
   "cell_type": "code",
   "execution_count": null,
   "metadata": {},
   "outputs": [],
   "source": []
  },
  {
   "cell_type": "code",
   "execution_count": null,
   "metadata": {},
   "outputs": [],
   "source": []
  },
  {
   "cell_type": "code",
   "execution_count": null,
   "metadata": {},
   "outputs": [],
   "source": []
  },
  {
   "cell_type": "code",
   "execution_count": null,
   "metadata": {},
   "outputs": [],
   "source": []
  }
 ],
 "metadata": {
  "kernelspec": {
   "display_name": "Python 3",
   "language": "python",
   "name": "python3"
  },
  "language_info": {
   "codemirror_mode": {
    "name": "ipython",
    "version": 3
   },
   "file_extension": ".py",
   "mimetype": "text/x-python",
   "name": "python",
   "nbconvert_exporter": "python",
   "pygments_lexer": "ipython3",
   "version": "3.7.3"
  }
 },
 "nbformat": 4,
 "nbformat_minor": 2
}
