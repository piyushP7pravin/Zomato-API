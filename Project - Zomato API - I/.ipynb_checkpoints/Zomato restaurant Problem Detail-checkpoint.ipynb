{
 "cells": [
  {
   "cell_type": "code",
   "execution_count": null,
   "metadata": {},
   "outputs": [],
   "source": [
    "# key : 273cafab78fd2157520f834cce7099f5"
   ]
  },
  {
   "cell_type": "code",
   "execution_count": 2,
   "metadata": {},
   "outputs": [],
   "source": [
    "import requests"
   ]
  },
  {
   "cell_type": "markdown",
   "metadata": {},
   "source": [
    "# Zomato Restaurant 2.2"
   ]
  },
  {
   "cell_type": "code",
   "execution_count": 7,
   "metadata": {},
   "outputs": [
    {
     "name": "stdout",
     "output_type": "stream",
     "text": [
      "4.2\n",
      "1400\n",
      "North Indian, Continental, Italian, Chinese\n",
      "G-15/B, Vijay Nagar, New Delhi\n"
     ]
    }
   ],
   "source": [
    "response = requests.get('https://developers.zomato.com/api/v2.1/restaurant',\n",
    "                        headers = {'user-key':'fe2800d53acb7eea4371a2f92dad232b'},\n",
    "                       params={\"res_id\":18241524})\n",
    "py_data = response.json()\n",
    "\n",
    "print(py_data['user_rating'][\"aggregate_rating\"])\n",
    "print(py_data[\"average_cost_for_two\"])\n",
    "print(py_data[\"cuisines\"])\n",
    "print(py_data[\"location\"][\"address\"])\n"
   ]
  },
  {
   "cell_type": "markdown",
   "metadata": {},
   "source": [
    "# Zomato Restaurant 2.3"
   ]
  },
  {
   "cell_type": "code",
   "execution_count": 11,
   "metadata": {},
   "outputs": [
    {
     "name": "stdout",
     "output_type": "stream",
     "text": [
      "no\n"
     ]
    }
   ],
   "source": [
    "response = requests.get('https://developers.zomato.com/api/v2.1/restaurant',\n",
    "                        headers = {'user-key':'fe2800d53acb7eea4371a2f92dad232b'},\n",
    "                       params={\"res_id\":18241524})\n",
    "py_data = response.json()\n",
    "if py_data[\"has_table_booking\"]:\n",
    "    print(\"yes\")\n",
    "else:\n",
    "    print(\"no\")"
   ]
  },
  {
   "cell_type": "markdown",
   "metadata": {},
   "source": [
    "# Zomato Restaurant 2.4"
   ]
  },
  {
   "cell_type": "code",
   "execution_count": 12,
   "metadata": {},
   "outputs": [
    {
     "name": "stdout",
     "output_type": "stream",
     "text": [
      "Nikhil Baisoya 5 They have shakes and mocktails which are mindblowing in taste and then I ordered paneer margerita pizza which has a little bit tangy flavour in it..i love it and another i ordered in starter is veg platter in which paneer tikka were mindblowing and then we had non veg seekh kebabs.. they taste very good and fresh and then we had a paneer butter masala and with it we ordered butter naan and garlic naan ..i found it less spicy so it will be good for those who dont like spicy food and at the end we had dessert which is so good in taste and fresh also.\n",
      "Vishal Naagar 5 A great restaurant to have party with friends in gtb nagar . They also have live music and party ambience. Coming to the food they have so many options available , some of them which u must try are delhi masala pizza, orange juice mocktail, chicken seekh kebab platter and brownie with ice cream in desserts.\n",
      "Kashish Seth 2 Recently made a visit here, the lounge is quite old and really hyped in Hudson lane. Though I found it below average. The ambience was okayish nothing extravagant or eye catchy. I had ordered blue lagoon which basically tasted like shikanji and tandoori chicken platter, Though it offered variety but lacked in taste. The chicken didn't seem to be of good quality. Kebabs were not at all juicy and really bland. The DJ was quite good tho. Not worth of it's price.\n",
      "Raveena (Sakshi)  Khanna 5 Today I’m Too hungry & Checking The Different Outlets Near the Gtb  Nagar  for  Delicious Food , Then I Find Out 736 AD  With Amazing Ratings & Reviews . Soo I Ordered Tandoori Veg Platter  & My Favourite Oreo Shake From The Menu, which was too Yummy. Loved this place. Fast service. Great experience!  Must visit here !!\n",
      "Manish Singh Foodie ❤ 5 \n"
     ]
    }
   ],
   "source": [
    "response = requests.get('https://developers.zomato.com/api/v2.1/reviews',\n",
    "                        headers = {'user-key':'fe2800d53acb7eea4371a2f92dad232b'},\n",
    "                       params={\"res_id\":18241524, \"count\":5}\n",
    "                       )\n",
    "py_data = response.json()\n",
    "for i in py_data[\"user_reviews\"]:\n",
    "    print(i[\"review\"][\"user\"][\"name\"], i[\"review\"][\"rating\"], i[\"review\"][\"review_text\"])\n"
   ]
  }
 ],
 "metadata": {
  "kernelspec": {
   "display_name": "Python 3",
   "language": "python",
   "name": "python3"
  },
  "language_info": {
   "codemirror_mode": {
    "name": "ipython",
    "version": 3
   },
   "file_extension": ".py",
   "mimetype": "text/x-python",
   "name": "python",
   "nbconvert_exporter": "python",
   "pygments_lexer": "ipython3",
   "version": "3.7.3"
  }
 },
 "nbformat": 4,
 "nbformat_minor": 2
}
